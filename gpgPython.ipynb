{
 "cells": [
  {
   "cell_type": "code",
   "execution_count": 2,
   "id": "0192f384",
   "metadata": {},
   "outputs": [
    {
     "name": "stdout",
     "output_type": "stream",
     "text": [
      "Collecting python-gnupg\n",
      "  Downloading python_gnupg-0.5.2-py2.py3-none-any.whl.metadata (1.9 kB)\n",
      "Downloading python_gnupg-0.5.2-py2.py3-none-any.whl (20 kB)\n",
      "Installing collected packages: python-gnupg\n",
      "Successfully installed python-gnupg-0.5.2\n"
     ]
    }
   ],
   "source": [
    "# Instalar solo una vez gpg en python\n",
    "# !pip install python-gnupg"
   ]
  },
  {
   "cell_type": "markdown",
   "id": "ba9be650",
   "metadata": {},
   "source": [
    "# Ejemplo: encriptar y desencriptar un mensaje con gpg"
   ]
  },
  {
   "cell_type": "code",
   "execution_count": 11,
   "id": "7f815888",
   "metadata": {},
   "outputs": [
    {
     "name": "stdout",
     "output_type": "stream",
     "text": [
      "Mensaje encriptado: b'-----BEGIN PGP MESSAGE-----\\r\\n\\r\\nhQGMAz5L/hlxIr5BAQwAyMs377SouElw2l3jXO7HpIvozELfN5m1SOdo/k6iFpg5\\r\\n2jtnJssO0N99I4k6/87zf24BvQD29aKuJ1vm3VKrt51M2ZOEVNH4q237vfthvme8\\r\\nWNZ4SL04s6kYJkMxuzpsIXkpVciZ2c1fkscMt5Ku9GIdoJKdWjUB0apE6ts1Zou3\\r\\nls1gm2kkO9tPI5Tpsg5iZkNx8VA+wg+tH4B9GGW1nvJKFwWCMZmIhFcOHNNVzpcK\\r\\nrTpMBe5fJc9quIVfRWUZ0Vo2IJZ4l5Zd1zHZMf0po/QKtizXKzaFFR+J1jk//rnG\\r\\nxr2DwTcUl27YAFzTDhPf3ysEzOOJ3Z/gZQH38M7u349mk1C2m5DNWKeAXKKYhy+x\\r\\nLlBuRPkIRKQvIxuR+Er+RK9ODwz46pxXPwx9ZVYE8LgGaRTfUqs7Sl+QfmKhJt2X\\r\\nDJcPzqJL7XGJ9xdN9f/15N+HaxlASrsiSRuKhFDBXp1f1uqTt+yfQEnjhnCbQWRF\\r\\n3FCz/W70oqp1U8/ZaeFM1FIBCQIQcF/Z/FCv3viMC4vApoUP1hUhswbM1T/TlmXo\\r\\n0WtAaEBrYv102r8abr4ypTt3SCShWJC5VmuceLhRCIsNAr97nbpxbMU/NqPGEW5G\\r\\nQbqt\\r\\n=15Ah\\r\\n-----END PGP MESSAGE-----\\r\\n'\n"
     ]
    }
   ],
   "source": [
    "import gnupg\n",
    "\n",
    "# Crear una instancia de GPG\n",
    "gpg = gnupg.GPG()\n",
    "\n",
    "# Cifrar un mensaje\n",
    "encrypted_data = gpg.encrypt(\"Hello, World!\", recipients=['A01635453@tec.mx'])\n",
    "\n",
    "# Guardar el mensaje cifrado en un archivo\n",
    "with open(\"messagePython.asc\", \"wb\") as f:\n",
    "    f.write(str(encrypted_data).encode('utf-8'))\n",
    "\n",
    "# Leer el mensaje encryptado\n",
    "with open(\"messagePython.asc\", \"rb\") as f:\n",
    "    encrypted_data = f.read()\n",
    "    \n",
    "print(f'Mensaje encriptado: {encrypted_data}')"
   ]
  },
  {
   "cell_type": "code",
   "execution_count": 12,
   "id": "77a31e96",
   "metadata": {},
   "outputs": [
    {
     "name": "stdout",
     "output_type": "stream",
     "text": [
      "Mensaje descifrado: Hello, World!\n"
     ]
    }
   ],
   "source": [
    "# Descifrar el mensaje\n",
    "decrypted_data = gpg.decrypt_file(open(\"messagePython.asc\", \"rb\"))\n",
    "\n",
    "print(\"Mensaje descifrado:\", decrypted_data)\n"
   ]
  },
  {
   "cell_type": "markdown",
   "id": "447d6fd5",
   "metadata": {},
   "source": [
    "# Firmar documentos - esta en pañales"
   ]
  },
  {
   "cell_type": "code",
   "execution_count": 13,
   "id": "14306114",
   "metadata": {},
   "outputs": [
    {
     "name": "stdout",
     "output_type": "stream",
     "text": [
      "Documento firmado exitosamente.\n",
      "Fingerprint de la firma: 215C6E7D445A7B17A5FB3BA7DB68A908A763E6E9\n"
     ]
    }
   ],
   "source": [
    "import gnupg\n",
    "\n",
    "# Función para firmar un documento\n",
    "def sign_document(document_path, output_path):\n",
    "    # Crear una instancia de GPG\n",
    "    gpg = gnupg.GPG()\n",
    "\n",
    "    # Firmar el documento\n",
    "    with open(document_path, 'rb') as f:\n",
    "        signed_data = gpg.sign_file(f, detach=True)\n",
    "\n",
    "    # Guardar el documento firmado\n",
    "    with open(output_path, 'wb') as f:\n",
    "        f.write(signed_data.data)\n",
    "\n",
    "    # Verificar si la firma fue exitosa\n",
    "    if signed_data.fingerprint:\n",
    "        print(\"Documento firmado exitosamente.\")\n",
    "        print(\"Fingerprint de la firma:\", signed_data.fingerprint)\n",
    "    else:\n",
    "        print(\"No se pudo firmar el documento.\")\n",
    "\n",
    "# Llamar a la función para firmar un documento\n",
    "sign_document('pdf_files/R_52786.pdf', 'sign_pdf_files/R_52786.pdf')"
   ]
  }
 ],
 "metadata": {
  "kernelspec": {
   "display_name": "Python 3 (ipykernel)",
   "language": "python",
   "name": "python3"
  },
  "language_info": {
   "codemirror_mode": {
    "name": "ipython",
    "version": 3
   },
   "file_extension": ".py",
   "mimetype": "text/x-python",
   "name": "python",
   "nbconvert_exporter": "python",
   "pygments_lexer": "ipython3",
   "version": "3.11.5"
  }
 },
 "nbformat": 4,
 "nbformat_minor": 5
}
