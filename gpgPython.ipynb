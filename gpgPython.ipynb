{
 "cells": [
  {
   "cell_type": "code",
   "execution_count": 2,
   "id": "0192f384",
   "metadata": {},
   "outputs": [
    {
     "name": "stdout",
     "output_type": "stream",
     "text": [
      "Requirement already satisfied: python-gnupg in c:\\anaconda\\lib\\site-packages (0.5.2)\n"
     ]
    }
   ],
   "source": [
    "# Instalar solo una vez gpg en python\n",
    "!pip install python-gnupg"
   ]
  },
  {
   "cell_type": "markdown",
   "id": "ba9be650",
   "metadata": {},
   "source": [
    "# Ejemplo: encriptar y desencriptar un mensaje con gpg"
   ]
  },
  {
   "cell_type": "code",
   "execution_count": 1,
   "id": "7f815888",
   "metadata": {},
   "outputs": [
    {
     "name": "stdout",
     "output_type": "stream",
     "text": [
      "Mensaje encriptado: b'-----BEGIN PGP MESSAGE-----\\r\\n\\r\\nhQGMAz5L/hlxIr5BAQwArQVvRDh7sCtYxoRdE26RymcWu3bsg11V+zMnIWkJL3CZ\\r\\nqUUbgYINb3eu0eXWmCo4G+Kq/kSa+stSBI3SKQRfFTP5Fx4N20hqukoSpnbQoca0\\r\\nJPBviZRKVhwPgeDqFf3nK5HwaER9Xp67SKXORIwchyDi1A/8KFeNhZwjyEPrLt22\\r\\nwkZGvtC3fIoo3TeA+qvBrAMODECf9Qe8s1TlsmOadRg8rMT5WUSQr3z7I19FpAsz\\r\\ngqBY/fkhoMJmG6ax6zG86ysTnOYWQovR7y8057PqxWYiwXn5EPStN0J8rjXblQxp\\r\\n+DYR1JrAx0mu1rJ3rFSyKbLfM4MoVEx1dhuSGqJsrt7hKVF22ioCUXcSXNgZJzsF\\r\\nRso6uaXKsp/1m6JQSjoIWvkJw/KLjp7Nb+Az2H+ndzP+3DHdUM2efWmToptVk+v9\\r\\n3NP2tWKpy17yedmjLB98ke/OrooYvvQIdF7m1EZN+jvd21vpaST+y0uhCRqNZSiE\\r\\nhShZ67RMcybimhFYDgIj1FIBCQIQ659MU7XHp1bhC/D86CBD0A3d+gOT6RgkyxAe\\r\\nge3jMH8X6FCGwvXibxR51RfI91gjrZwkQ98ZlGXQhDULLWvSeF/h5fCJcsYnp8d7\\r\\nQaBH\\r\\n=u+Mj\\r\\n-----END PGP MESSAGE-----\\r\\n'\n"
     ]
    }
   ],
   "source": [
    "import gnupg\n",
    "\n",
    "# Crear una instancia de GPG\n",
    "gpg = gnupg.GPG()\n",
    "\n",
    "# Cifrar un mensaje\n",
    "encrypted_data = gpg.encrypt(\"Hello, World!\", recipients=['A01635453@tec.mx'])\n",
    "\n",
    "# Guardar el mensaje cifrado en un archivo\n",
    "with open(\"messagePython.asc\", \"wb\") as f:\n",
    "    f.write(str(encrypted_data).encode('utf-8'))\n",
    "\n",
    "# Leer el mensaje encryptado\n",
    "with open(\"messagePython.asc\", \"rb\") as f:\n",
    "    encrypted_data = f.read()\n",
    "    \n",
    "print(f'Mensaje encriptado: {encrypted_data}')"
   ]
  },
  {
   "cell_type": "code",
   "execution_count": null,
   "id": "77a31e96",
   "metadata": {},
   "outputs": [],
   "source": [
    "# Descifrar el mensaje\n",
    "decrypted_data = gpg.decrypt_file(open(\"messagePython.asc\", \"rb\"))\n",
    "\n",
    "print(\"Mensaje descifrado:\", decrypted_data)\n"
   ]
  },
  {
   "cell_type": "markdown",
   "id": "447d6fd5",
   "metadata": {},
   "source": [
    "# Firmar documentos - esta en pañales"
   ]
  },
  {
   "cell_type": "code",
   "execution_count": 1,
   "id": "14306114",
   "metadata": {},
   "outputs": [
    {
     "ename": "RuntimeError",
     "evalue": "GnuPG is not installed!",
     "output_type": "error",
     "traceback": [
      "\u001b[1;31m---------------------------------------------------------------------------\u001b[0m",
      "\u001b[1;31mRuntimeError\u001b[0m                              Traceback (most recent call last)",
      "Cell \u001b[1;32mIn[1], line 24\u001b[0m\n\u001b[0;32m     21\u001b[0m         \u001b[38;5;28mprint\u001b[39m(\u001b[38;5;124m\"\u001b[39m\u001b[38;5;124mNo se pudo firmar el documento.\u001b[39m\u001b[38;5;124m\"\u001b[39m)\n\u001b[0;32m     23\u001b[0m \u001b[38;5;66;03m# Llamar a la función para firmar un documento\u001b[39;00m\n\u001b[1;32m---> 24\u001b[0m sign_document(\u001b[38;5;124m'\u001b[39m\u001b[38;5;124mpdf_files/R_52786.pdf\u001b[39m\u001b[38;5;124m'\u001b[39m, \u001b[38;5;124m'\u001b[39m\u001b[38;5;124msign_pdf_files/R_52786version2.pdf\u001b[39m\u001b[38;5;124m'\u001b[39m)\n",
      "Cell \u001b[1;32mIn[1], line 6\u001b[0m, in \u001b[0;36msign_document\u001b[1;34m(document_path, output_path)\u001b[0m\n\u001b[0;32m      4\u001b[0m \u001b[38;5;28;01mdef\u001b[39;00m \u001b[38;5;21msign_document\u001b[39m(document_path, output_path):\n\u001b[0;32m      5\u001b[0m     \u001b[38;5;66;03m# Crear una instancia de GPG\u001b[39;00m\n\u001b[1;32m----> 6\u001b[0m     gpg \u001b[38;5;241m=\u001b[39m gnupg\u001b[38;5;241m.\u001b[39mGPG()\n\u001b[0;32m      8\u001b[0m     \u001b[38;5;66;03m# Firmar el documento\u001b[39;00m\n\u001b[0;32m      9\u001b[0m     \u001b[38;5;28;01mwith\u001b[39;00m \u001b[38;5;28mopen\u001b[39m(document_path, \u001b[38;5;124m'\u001b[39m\u001b[38;5;124mrb\u001b[39m\u001b[38;5;124m'\u001b[39m) \u001b[38;5;28;01mas\u001b[39;00m f:\n",
      "File \u001b[1;32mC:\\Anaconda\\Lib\\site-packages\\gnupg\\gnupg.py:117\u001b[0m, in \u001b[0;36mGPG.__init__\u001b[1;34m(self, binary, homedir, verbose, use_agent, keyring, secring, ignore_homedir_permissions, options)\u001b[0m\n\u001b[0;32m     61\u001b[0m \u001b[38;5;28;01mdef\u001b[39;00m \u001b[38;5;21m__init__\u001b[39m(\u001b[38;5;28mself\u001b[39m, binary\u001b[38;5;241m=\u001b[39m\u001b[38;5;28;01mNone\u001b[39;00m, homedir\u001b[38;5;241m=\u001b[39m\u001b[38;5;28;01mNone\u001b[39;00m, verbose\u001b[38;5;241m=\u001b[39m\u001b[38;5;28;01mFalse\u001b[39;00m,\n\u001b[0;32m     62\u001b[0m              use_agent\u001b[38;5;241m=\u001b[39m\u001b[38;5;28;01mFalse\u001b[39;00m, keyring\u001b[38;5;241m=\u001b[39m\u001b[38;5;28;01mNone\u001b[39;00m, secring\u001b[38;5;241m=\u001b[39m\u001b[38;5;28;01mNone\u001b[39;00m,\n\u001b[0;32m     63\u001b[0m              ignore_homedir_permissions\u001b[38;5;241m=\u001b[39m\u001b[38;5;28;01mFalse\u001b[39;00m, options\u001b[38;5;241m=\u001b[39m\u001b[38;5;28;01mNone\u001b[39;00m):\n\u001b[0;32m     64\u001b[0m \u001b[38;5;250m    \u001b[39m\u001b[38;5;124;03m\"\"\"Initialize a GnuPG process wrapper.\u001b[39;00m\n\u001b[0;32m     65\u001b[0m \n\u001b[0;32m     66\u001b[0m \u001b[38;5;124;03m    :param str binary: Name for GnuPG binary executable. If the absolute\u001b[39;00m\n\u001b[1;32m   (...)\u001b[0m\n\u001b[0;32m    114\u001b[0m \u001b[38;5;124;03m    '/usr/bin/gpg'\u001b[39;00m\n\u001b[0;32m    115\u001b[0m \u001b[38;5;124;03m    \"\"\"\u001b[39;00m\n\u001b[1;32m--> 117\u001b[0m     \u001b[38;5;28msuper\u001b[39m(GPG, \u001b[38;5;28mself\u001b[39m)\u001b[38;5;241m.\u001b[39m\u001b[38;5;21m__init__\u001b[39m(\n\u001b[0;32m    118\u001b[0m         binary\u001b[38;5;241m=\u001b[39mbinary,\n\u001b[0;32m    119\u001b[0m         home\u001b[38;5;241m=\u001b[39mhomedir,\n\u001b[0;32m    120\u001b[0m         keyring\u001b[38;5;241m=\u001b[39mkeyring,\n\u001b[0;32m    121\u001b[0m         secring\u001b[38;5;241m=\u001b[39msecring,\n\u001b[0;32m    122\u001b[0m         options\u001b[38;5;241m=\u001b[39moptions,\n\u001b[0;32m    123\u001b[0m         verbose\u001b[38;5;241m=\u001b[39mverbose,\n\u001b[0;32m    124\u001b[0m         use_agent\u001b[38;5;241m=\u001b[39muse_agent,\n\u001b[0;32m    125\u001b[0m         ignore_homedir_permissions\u001b[38;5;241m=\u001b[39mignore_homedir_permissions,\n\u001b[0;32m    126\u001b[0m     )\n\u001b[0;32m    128\u001b[0m     log\u001b[38;5;241m.\u001b[39minfo(textwrap\u001b[38;5;241m.\u001b[39mdedent(\u001b[38;5;124m\"\"\"\u001b[39m\n\u001b[0;32m    129\u001b[0m \u001b[38;5;124m    Initialised settings:\u001b[39m\n\u001b[0;32m    130\u001b[0m \u001b[38;5;124m    binary: \u001b[39m\u001b[38;5;132;01m%s\u001b[39;00m\n\u001b[1;32m   (...)\u001b[0m\n\u001b[0;32m    149\u001b[0m            \u001b[38;5;28mstr\u001b[39m(\u001b[38;5;28mself\u001b[39m\u001b[38;5;241m.\u001b[39mverbose),\n\u001b[0;32m    150\u001b[0m            \u001b[38;5;28mstr\u001b[39m(\u001b[38;5;28mself\u001b[39m\u001b[38;5;241m.\u001b[39muse_agent))))\n\u001b[0;32m    152\u001b[0m     \u001b[38;5;28mself\u001b[39m\u001b[38;5;241m.\u001b[39m_batch_dir \u001b[38;5;241m=\u001b[39m os\u001b[38;5;241m.\u001b[39mpath\u001b[38;5;241m.\u001b[39mjoin(\u001b[38;5;28mself\u001b[39m\u001b[38;5;241m.\u001b[39mhomedir, \u001b[38;5;124m'\u001b[39m\u001b[38;5;124mbatch-files\u001b[39m\u001b[38;5;124m'\u001b[39m)\n",
      "File \u001b[1;32mC:\\Anaconda\\Lib\\site-packages\\gnupg\\_meta.py:182\u001b[0m, in \u001b[0;36mGPGBase.__init__\u001b[1;34m(self, binary, home, keyring, secring, use_agent, default_preference_list, ignore_homedir_permissions, verbose, options)\u001b[0m\n\u001b[0;32m    159\u001b[0m \u001b[38;5;250m\u001b[39m\u001b[38;5;124;03m\"\"\"Create a ``GPGBase``.\u001b[39;00m\n\u001b[0;32m    160\u001b[0m \n\u001b[0;32m    161\u001b[0m \u001b[38;5;124;03mThis class is used to set up properties for controlling the behaviour\u001b[39;00m\n\u001b[1;32m   (...)\u001b[0m\n\u001b[0;32m    179\u001b[0m \u001b[38;5;124;03m                   file for secret keys.\u001b[39;00m\n\u001b[0;32m    180\u001b[0m \u001b[38;5;124;03m\"\"\"\u001b[39;00m\n\u001b[0;32m    181\u001b[0m \u001b[38;5;28mself\u001b[39m\u001b[38;5;241m.\u001b[39mignore_homedir_permissions \u001b[38;5;241m=\u001b[39m ignore_homedir_permissions\n\u001b[1;32m--> 182\u001b[0m \u001b[38;5;28mself\u001b[39m\u001b[38;5;241m.\u001b[39mbinary  \u001b[38;5;241m=\u001b[39m _util\u001b[38;5;241m.\u001b[39m_find_binary(binary)\n\u001b[0;32m    183\u001b[0m \u001b[38;5;28mself\u001b[39m\u001b[38;5;241m.\u001b[39mhomedir \u001b[38;5;241m=\u001b[39m os\u001b[38;5;241m.\u001b[39mpath\u001b[38;5;241m.\u001b[39mexpanduser(home) \u001b[38;5;28;01mif\u001b[39;00m home \u001b[38;5;28;01melse\u001b[39;00m _util\u001b[38;5;241m.\u001b[39m_conf\n\u001b[0;32m    184\u001b[0m pub \u001b[38;5;241m=\u001b[39m _parsers\u001b[38;5;241m.\u001b[39m_fix_unsafe(keyring) \u001b[38;5;28;01mif\u001b[39;00m keyring \u001b[38;5;28;01melse\u001b[39;00m \u001b[38;5;124m'\u001b[39m\u001b[38;5;124mpubring.gpg\u001b[39m\u001b[38;5;124m'\u001b[39m\n",
      "File \u001b[1;32mC:\\Anaconda\\Lib\\site-packages\\gnupg\\_util.py:429\u001b[0m, in \u001b[0;36m_find_binary\u001b[1;34m(binary)\u001b[0m\n\u001b[0;32m    427\u001b[0m             log\u001b[38;5;241m.\u001b[39merror(\u001b[38;5;124m\"\u001b[39m\u001b[38;5;124mCould not find binary for \u001b[39m\u001b[38;5;124m'\u001b[39m\u001b[38;5;124mgpg2\u001b[39m\u001b[38;5;124m'\u001b[39m\u001b[38;5;124m.\u001b[39m\u001b[38;5;124m\"\u001b[39m)\n\u001b[0;32m    428\u001b[0m \u001b[38;5;28;01mif\u001b[39;00m found \u001b[38;5;129;01mis\u001b[39;00m \u001b[38;5;28;01mNone\u001b[39;00m:\n\u001b[1;32m--> 429\u001b[0m     \u001b[38;5;28;01mraise\u001b[39;00m \u001b[38;5;167;01mRuntimeError\u001b[39;00m(\u001b[38;5;124m\"\u001b[39m\u001b[38;5;124mGnuPG is not installed!\u001b[39m\u001b[38;5;124m\"\u001b[39m)\n\u001b[0;32m    431\u001b[0m \u001b[38;5;28;01mreturn\u001b[39;00m found\n",
      "\u001b[1;31mRuntimeError\u001b[0m: GnuPG is not installed!"
     ]
    }
   ],
   "source": [
    "import gnupg\n",
    "\n",
    "# Función para firmar un documento\n",
    "def sign_document(document_path, output_path):\n",
    "    # Crear una instancia de GPG\n",
    "    gpg = gnupg.GPG()\n",
    "\n",
    "    # Firmar el documento\n",
    "    with open(document_path, 'rb') as f:\n",
    "        signed_data = gpg.sign_file(f, detach=True)\n",
    "\n",
    "    # Guardar el documento firmado\n",
    "    with open(output_path, 'wb') as f:\n",
    "        f.write(signed_data.data)\n",
    "\n",
    "    # Verificar si la firma fue exitosa\n",
    "    if signed_data.fingerprint:\n",
    "        print(\"Documento firmado exitosamente.\")\n",
    "        print(\"Fingerprint de la firma:\", signed_data.fingerprint)\n",
    "    else:\n",
    "        print(\"No se pudo firmar el documento.\")\n",
    "\n",
    "# Llamar a la función para firmar un documento\n",
    "sign_document('pdf_files/R_52786.pdf', 'sign_pdf_files/R_52786version2.pdf')"
   ]
  },
  {
   "cell_type": "code",
   "execution_count": 2,
   "id": "08740daa",
   "metadata": {},
   "outputs": [
    {
     "name": "stdout",
     "output_type": "stream",
     "text": [
      "Collecting gnupg\n",
      "  Using cached gnupg-2.3.1-py3-none-any.whl\n",
      "Collecting psutil>=1.2.1 (from gnupg)\n",
      "  Downloading psutil-5.9.8-cp37-abi3-win_amd64.whl.metadata (22 kB)\n",
      "Downloading psutil-5.9.8-cp37-abi3-win_amd64.whl (255 kB)\n",
      "   ---------------------------------------- 0.0/255.1 kB ? eta -:--:--\n",
      "   ---- ---------------------------------- 30.7/255.1 kB 660.6 kB/s eta 0:00:01\n",
      "   ---------- ---------------------------- 71.7/255.1 kB 991.0 kB/s eta 0:00:01\n",
      "   --------------------------- ------------ 174.1/255.1 kB 1.5 MB/s eta 0:00:01\n",
      "   ------------------------------------ --- 235.5/255.1 kB 1.6 MB/s eta 0:00:01\n",
      "   ------------------------------------ --- 235.5/255.1 kB 1.6 MB/s eta 0:00:01\n",
      "   ------------------------------------ --- 235.5/255.1 kB 1.6 MB/s eta 0:00:01\n",
      "   ------------------------------------ - 245.8/255.1 kB 793.0 kB/s eta 0:00:01\n",
      "   -------------------------------------- 255.1/255.1 kB 746.5 kB/s eta 0:00:00\n",
      "Installing collected packages: psutil, gnupg\n",
      "  Attempting uninstall: psutil\n",
      "    Found existing installation: psutil 5.9.0\n",
      "    Uninstalling psutil-5.9.0:\n",
      "      Successfully uninstalled psutil-5.9.0\n",
      "  Attempting uninstall: gnupg\n",
      "    Found existing installation: gnupg 2.3.1\n",
      "    Uninstalling gnupg-2.3.1:\n",
      "      Successfully uninstalled gnupg-2.3.1\n",
      "Successfully installed gnupg-2.3.1 psutil-5.9.8\n",
      "Note: you may need to restart the kernel to use updated packages.\n"
     ]
    },
    {
     "name": "stderr",
     "output_type": "stream",
     "text": [
      "  WARNING: Failed to remove contents in a temporary directory 'C:\\Anaconda\\Lib\\site-packages\\~sutil'.\n",
      "  You can safely remove it manually.\n"
     ]
    }
   ],
   "source": [
    "pip install gnupg --upgrade --force-reinstall"
   ]
  }
 ],
 "metadata": {
  "kernelspec": {
   "display_name": "Python 3 (ipykernel)",
   "language": "python",
   "name": "python3"
  },
  "language_info": {
   "codemirror_mode": {
    "name": "ipython",
    "version": 3
   },
   "file_extension": ".py",
   "mimetype": "text/x-python",
   "name": "python",
   "nbconvert_exporter": "python",
   "pygments_lexer": "ipython3",
   "version": "3.11.5"
  }
 },
 "nbformat": 4,
 "nbformat_minor": 5
}
