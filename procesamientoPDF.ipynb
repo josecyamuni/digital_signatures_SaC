{
 "cells": [
  {
   "cell_type": "markdown",
   "id": "c9bd9841",
   "metadata": {},
   "source": [
    "Para generar un hash de un documento PDF en Python, se usaron dos librerías que permiten leer el archivo y calcular su hash. \n",
    "\n",
    "- **hashlib:** Esta es una librería estándar de Python que permite calcular hashes usando varios algoritmos (MD5, SHA-1, SHA-256, etc.).\n",
    "\n",
    "- **PyMuPDF (fitz):** Esta librería permite leer archivos PDF, aunque no es estrictamente necesaria para el cálculo del hash, puede ser útil si necesitas manipular el PDF antes de calcular el hash.\n",
    "\n",
    "El método utilizado para sacar el HASH del PDF es **SHA-256  (Secure Hash Algorithm 256 bits)**\n",
    "\n",
    "    - _Ventajas:_ Alta seguridad, ampliamente soportado.\n",
    "    \n",
    "    - _Uso típico:_ Aplicaciones de seguridad críticas, como firmas digitales y certificados SSL/TLS.\n"
   ]
  },
  {
   "cell_type": "code",
   "execution_count": null,
   "id": "fd172331",
   "metadata": {},
   "outputs": [],
   "source": [
    "#pip install PyMuPDF"
   ]
  },
  {
   "cell_type": "code",
   "execution_count": 12,
   "id": "8b480f16",
   "metadata": {},
   "outputs": [
    {
     "name": "stdout",
     "output_type": "stream",
     "text": [
      "El hash del archivo PDF es: e3b0c44298fc1c149afbf4c8996fb92427ae41e4649b934ca495991b7852b855\n"
     ]
    }
   ],
   "source": [
    "import hashlib\n",
    "import fitz  # PyMuPDF\n",
    "\n",
    "def calcular_hash_con_pymupdf(archivo_pdf, metodo='sha256'):\n",
    "    hash_func = hashlib.new(metodo)\n",
    "    documento = fitz.open(archivo_pdf)\n",
    "    for pagina in documento:\n",
    "        texto = pagina.get_text(\"text\")\n",
    "        hash_func.update(texto.encode('utf-8'))\n",
    "    return hash_func.hexdigest()\n",
    "\n",
    "ruta_pdf = 'pdf_files/R_52786.pdf'\n",
    "hash_pdf = calcular_hash_con_pymupdf(ruta_pdf)\n",
    "print(f'El hash del archivo PDF es: {hash_pdf}')\n"
   ]
  }
 ],
 "metadata": {
  "kernelspec": {
   "display_name": "Python 3 (ipykernel)",
   "language": "python",
   "name": "python3"
  },
  "language_info": {
   "codemirror_mode": {
    "name": "ipython",
    "version": 3
   },
   "file_extension": ".py",
   "mimetype": "text/x-python",
   "name": "python",
   "nbconvert_exporter": "python",
   "pygments_lexer": "ipython3",
   "version": "3.11.5"
  }
 },
 "nbformat": 4,
 "nbformat_minor": 5
}
